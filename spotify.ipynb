{
 "cells": [
  {
   "cell_type": "code",
   "execution_count": 72,
   "metadata": {},
   "outputs": [
    {
     "name": "stdout",
     "output_type": "stream",
     "text": [
      "Collecting jinja2\n",
      "  Downloading jinja2-3.1.4-py3-none-any.whl.metadata (2.6 kB)\n",
      "Collecting MarkupSafe>=2.0 (from jinja2)\n",
      "  Downloading MarkupSafe-3.0.2-cp310-cp310-manylinux_2_17_x86_64.manylinux2014_x86_64.whl.metadata (4.0 kB)\n",
      "Downloading jinja2-3.1.4-py3-none-any.whl (133 kB)\n",
      "Downloading MarkupSafe-3.0.2-cp310-cp310-manylinux_2_17_x86_64.manylinux2014_x86_64.whl (20 kB)\n",
      "Installing collected packages: MarkupSafe, jinja2\n",
      "Successfully installed MarkupSafe-3.0.2 jinja2-3.1.4\n",
      "Note: you may need to restart the kernel to use updated packages.\n",
      "Requirement already satisfied: python-dotenv in ./.venv/lib/python3.10/site-packages (1.0.1)\n",
      "Note: you may need to restart the kernel to use updated packages.\n",
      "Requirement already satisfied: requests in ./.venv/lib/python3.10/site-packages (2.32.3)\n",
      "Requirement already satisfied: charset-normalizer<4,>=2 in ./.venv/lib/python3.10/site-packages (from requests) (3.4.0)\n",
      "Requirement already satisfied: idna<4,>=2.5 in ./.venv/lib/python3.10/site-packages (from requests) (3.10)\n",
      "Requirement already satisfied: urllib3<3,>=1.21.1 in ./.venv/lib/python3.10/site-packages (from requests) (2.2.3)\n",
      "Requirement already satisfied: certifi>=2017.4.17 in ./.venv/lib/python3.10/site-packages (from requests) (2024.8.30)\n",
      "Note: you may need to restart the kernel to use updated packages.\n",
      "Requirement already satisfied: wonderwords in ./.venv/lib/python3.10/site-packages (2.2.0)\n",
      "Note: you may need to restart the kernel to use updated packages.\n"
     ]
    }
   ],
   "source": [
    "%pip install jinja2\n",
    "%pip install python-dotenv\n",
    "%pip install requests\n",
    "%pip install wonderwords"
   ]
  },
  {
   "cell_type": "code",
   "execution_count": 73,
   "metadata": {},
   "outputs": [],
   "source": [
    "import os\n",
    "import random\n",
    "import requests\n",
    "\n",
    "from dotenv import load_dotenv\n",
    "from IPython.display import display, Markdown\n",
    "from jinja2 import Template\n",
    "from wonderwords import RandomWord"
   ]
  },
  {
   "cell_type": "code",
   "execution_count": 74,
   "metadata": {},
   "outputs": [],
   "source": [
    "# SPOTIFY API CONSTANTS\n",
    "\n",
    "load_dotenv()\n",
    "\n",
    "CLIENT_ID = os.environ.get('CLIENT_ID')\n",
    "CLIENT_SECRET = os.environ.get('CLIENT_SECRET')\n",
    "SPOTIFY_BASE_URL = 'https://api.spotify.com/v1/'"
   ]
  },
  {
   "cell_type": "code",
   "execution_count": 75,
   "metadata": {},
   "outputs": [
    {
     "name": "stdout",
     "output_type": "stream",
     "text": [
      "BQAUyw_h1l8YuPy5jti4T4ORUxxzPtdTmPzEKkkT9ZsNGFJn_ti5YUSP0out_bMhaWgF_d-u_zI6izv6_aD6iqRhx7TryDfLL_rYT3dbY_TXSPrKAKE\n"
     ]
    }
   ],
   "source": [
    "# SPOTIFY API AUTHENTICATION\n",
    "\n",
    "def get_spotify_token(client_id, client_secret):\n",
    "    url = \"https://accounts.spotify.com/api/token\"\n",
    "    headers = {\n",
    "        \"Content-Type\": \"application/x-www-form-urlencoded\"\n",
    "    }\n",
    "    data = {\n",
    "        \"grant_type\": \"client_credentials\",\n",
    "        \"client_id\": client_id,\n",
    "        \"client_secret\": client_secret\n",
    "    }\n",
    "    \n",
    "    response = requests.post(url, headers=headers, data=data)\n",
    "    response_data = response.json()\n",
    "    \n",
    "    if response.status_code == 200:\n",
    "        return response_data['access_token']\n",
    "    else:\n",
    "        raise Exception(f\"Error fetching token: {response_data}\")\n",
    "\n",
    "TOKEN = get_spotify_token(CLIENT_ID, CLIENT_SECRET)\n",
    "HEADERS = {\n",
    "        \"Authorization\": f\"Bearer {TOKEN}\"\n",
    "    }\n",
    "print(TOKEN)"
   ]
  },
  {
   "cell_type": "code",
   "execution_count": 76,
   "metadata": {},
   "outputs": [],
   "source": [
    "# SPOTIFY API FUNCTIONS\n",
    "\n",
    "r = RandomWord()\n",
    "def get_random_album_id():\n",
    "    random_word = r.word()\n",
    "    \n",
    "    search_url = SPOTIFY_BASE_URL + \"search\"\n",
    "    params = {\n",
    "        \"q\": random_word,\n",
    "        \"type\": \"album\",\n",
    "        \"tag\": \"hipster\", # to get more obscure results\n",
    "        \"limit\": 50\n",
    "    }\n",
    "    response = requests.get(search_url, headers=HEADERS, params=params)\n",
    "    response_data = response.json()\n",
    "    \n",
    "    albums = response_data.get('albums', {}).get('items', [])\n",
    "    non_single_albums = [album for album in albums if album['album_type'] == 'album']\n",
    "    \n",
    "    if non_single_albums:\n",
    "        random_album = random.choice(non_single_albums)\n",
    "        return random_album['id']\n",
    "    else:\n",
    "        return None\n",
    "    \n",
    "def get_album_info(album_id):\n",
    "    url = SPOTIFY_BASE_URL + f\"albums/{album_id}\"\n",
    "    response = requests.get(url, headers=HEADERS)\n",
    "    album = response.json()\n",
    "    \n",
    "    album_info = {\n",
    "        'name': album['name'],\n",
    "        'id': album['id'],\n",
    "        'date': album['release_date'],\n",
    "        'artists': [a['name'] for a in album['artists']],\n",
    "        'cover': album['images'][0]['url'],\n",
    "        'genres': album['genres'], # most often not yet classified\n",
    "        'label': album['label']\n",
    "    }\n",
    "\n",
    "    return album_info\n",
    "\n",
    "def get_album_tracks(album_id):\n",
    "    url = SPOTIFY_BASE_URL + f\"albums/{album_id}/tracks\"\n",
    "    response = requests.get(url, headers=HEADERS)\n",
    "    response_data = response.json()\n",
    "\n",
    "    tracks = {}\n",
    "    for t in response_data.get('items', []):\n",
    "        track = {\n",
    "            'name': t['name'],\n",
    "            'artists': [a['name'] for a in t['artists']]\n",
    "        }\n",
    "        tracks[t['track_number']] = track\n",
    "\n",
    "    return tracks\n",
    "\n",
    "def get_random_album_information():\n",
    "    album_id = get_random_album_id()\n",
    "    album = get_album_info(album_id)\n",
    "    album['tracks'] = get_album_tracks(album_id)\n",
    "    return album\n",
    "\n",
    "def display_album(album):\n",
    "    if album:       \n",
    "        display(Markdown(f\"**{album['name']}**\"))\n",
    "        display(Markdown(f\"![Album Cover]({album['cover']})\"))\n",
    "        display(Markdown(f\"**Artists**: {', '.join(album['artists'])}\"))\n",
    "        display(Markdown(f\"**Release Date**: {album['date']}\"))\n",
    "        display(Markdown(f\"**Genres**: {', '.join(album['genres'])}\"))\n",
    "        display(Markdown(f\"**Label**: {album['label']}\"))\n",
    "        display(Markdown(f\"**Tracks**\"))\n",
    "        for track_number, track in album['tracks'].items():\n",
    "            display(Markdown(f\"{track_number}. {track['name']} - {', '.join(track['artists'])}\"))\n",
    "    else:\n",
    "        display(Markdown(\"No albums found. Try again!\"))\n",
    "\n"
   ]
  },
  {
   "cell_type": "code",
   "execution_count": 86,
   "metadata": {},
   "outputs": [
    {
     "data": {
      "text/markdown": [
       "**Dumpster Fire**"
      ],
      "text/plain": [
       "<IPython.core.display.Markdown object>"
      ]
     },
     "metadata": {},
     "output_type": "display_data"
    },
    {
     "data": {
      "text/markdown": [
       "![Album Cover](https://i.scdn.co/image/ab67616d0000b273897f84b6f3f58fe13db69f6a)"
      ],
      "text/plain": [
       "<IPython.core.display.Markdown object>"
      ]
     },
     "metadata": {},
     "output_type": "display_data"
    },
    {
     "data": {
      "text/markdown": [
       "**Artists**: Jack Yoder"
      ],
      "text/plain": [
       "<IPython.core.display.Markdown object>"
      ]
     },
     "metadata": {},
     "output_type": "display_data"
    },
    {
     "data": {
      "text/markdown": [
       "**Release Date**: 2024-08-13"
      ],
      "text/plain": [
       "<IPython.core.display.Markdown object>"
      ]
     },
     "metadata": {},
     "output_type": "display_data"
    },
    {
     "data": {
      "text/markdown": [
       "**Genres**: "
      ],
      "text/plain": [
       "<IPython.core.display.Markdown object>"
      ]
     },
     "metadata": {},
     "output_type": "display_data"
    },
    {
     "data": {
      "text/markdown": [
       "**Label**: Southbound Records"
      ],
      "text/plain": [
       "<IPython.core.display.Markdown object>"
      ]
     },
     "metadata": {},
     "output_type": "display_data"
    },
    {
     "data": {
      "text/markdown": [
       "**Tracks**"
      ],
      "text/plain": [
       "<IPython.core.display.Markdown object>"
      ]
     },
     "metadata": {},
     "output_type": "display_data"
    },
    {
     "data": {
      "text/markdown": [
       "1. January - Jack Yoder"
      ],
      "text/plain": [
       "<IPython.core.display.Markdown object>"
      ]
     },
     "metadata": {},
     "output_type": "display_data"
    },
    {
     "data": {
      "text/markdown": [
       "2. Bathtub Speed - Jack Yoder"
      ],
      "text/plain": [
       "<IPython.core.display.Markdown object>"
      ]
     },
     "metadata": {},
     "output_type": "display_data"
    },
    {
     "data": {
      "text/markdown": [
       "3. Hammer Down - Jack Yoder"
      ],
      "text/plain": [
       "<IPython.core.display.Markdown object>"
      ]
     },
     "metadata": {},
     "output_type": "display_data"
    },
    {
     "data": {
      "text/markdown": [
       "4. I'll Still Be Your Friend - Jack Yoder"
      ],
      "text/plain": [
       "<IPython.core.display.Markdown object>"
      ]
     },
     "metadata": {},
     "output_type": "display_data"
    },
    {
     "data": {
      "text/markdown": [
       "5. Last Night - Jack Yoder"
      ],
      "text/plain": [
       "<IPython.core.display.Markdown object>"
      ]
     },
     "metadata": {},
     "output_type": "display_data"
    },
    {
     "data": {
      "text/markdown": [
       "6. I Made it to Here - Jack Yoder"
      ],
      "text/plain": [
       "<IPython.core.display.Markdown object>"
      ]
     },
     "metadata": {},
     "output_type": "display_data"
    },
    {
     "data": {
      "text/markdown": [
       "7. Ballad of a Fool - Jack Yoder"
      ],
      "text/plain": [
       "<IPython.core.display.Markdown object>"
      ]
     },
     "metadata": {},
     "output_type": "display_data"
    },
    {
     "data": {
      "text/markdown": [
       "8. Bottle of Blues - Jack Yoder"
      ],
      "text/plain": [
       "<IPython.core.display.Markdown object>"
      ]
     },
     "metadata": {},
     "output_type": "display_data"
    },
    {
     "data": {
      "text/markdown": [
       "9. No Place Else To Go - (Instrumental) - Jack Yoder"
      ],
      "text/plain": [
       "<IPython.core.display.Markdown object>"
      ]
     },
     "metadata": {},
     "output_type": "display_data"
    },
    {
     "data": {
      "text/markdown": [
       "10. Southern Dumpster Fire - Jack Yoder"
      ],
      "text/plain": [
       "<IPython.core.display.Markdown object>"
      ]
     },
     "metadata": {},
     "output_type": "display_data"
    }
   ],
   "source": [
    "# GET RANDOM ALBUM INFORMATION\n",
    "\n",
    "album = get_random_album_information()\n",
    "display_album(album)"
   ]
  },
  {
   "cell_type": "code",
   "execution_count": 87,
   "metadata": {},
   "outputs": [
    {
     "name": "stdout",
     "output_type": "stream",
     "text": [
      "Create a square album cover for the following album:\n",
      "\n",
      "Album name : Dumpster Fire\n",
      "Artist : Jack Yoder\n",
      "Release Date : 2024-08-13\n",
      "Label : Southbound Records\n",
      "\n",
      "Tracks:\n",
      "1. January by Jack Yoder\n",
      "2. Bathtub Speed by Jack Yoder\n",
      "3. Hammer Down by Jack Yoder\n",
      "4. I'll Still Be Your Friend by Jack Yoder\n",
      "5. Last Night by Jack Yoder\n",
      "6. I Made it to Here by Jack Yoder\n",
      "7. Ballad of a Fool by Jack Yoder\n",
      "8. Bottle of Blues by Jack Yoder\n",
      "9. No Place Else To Go - (Instrumental) by Jack Yoder\n",
      "10. Southern Dumpster Fire by Jack Yoder\n",
      "\n"
     ]
    }
   ],
   "source": [
    "# JINJA TEMPLATE\n",
    "\n",
    "template = Template(\"\"\"\\\n",
    "Create a square album cover for the following album:\n",
    "\n",
    "Album name : {{ album.name }}\n",
    "Artist{% if album.artists|length > 1 %}s{% endif %} : {{ album.artists | join(', ') }}\n",
    "Release Date : {{ album.date }}\n",
    "Label : {{ album.label }}\n",
    "{% if album.genres %}Genres : {{ album.genres | join(', ') }}{% endif %}\n",
    "Tracks:\n",
    "{% for track_number, track in album.tracks.items() %}{{ track_number }}. {{ track.name }} by {{ track.artists | join(', ') }}\\n{% endfor %}\n",
    "\"\"\")\n",
    "\n",
    "print(template.render(album=album))"
   ]
  }
 ],
 "metadata": {
  "kernelspec": {
   "display_name": ".venv",
   "language": "python",
   "name": "python3"
  },
  "language_info": {
   "codemirror_mode": {
    "name": "ipython",
    "version": 3
   },
   "file_extension": ".py",
   "mimetype": "text/x-python",
   "name": "python",
   "nbconvert_exporter": "python",
   "pygments_lexer": "ipython3",
   "version": "3.10.12"
  }
 },
 "nbformat": 4,
 "nbformat_minor": 2
}
