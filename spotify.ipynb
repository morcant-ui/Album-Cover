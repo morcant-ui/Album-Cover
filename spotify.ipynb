{
 "cells": [
  {
   "cell_type": "code",
   "execution_count": 27,
   "metadata": {},
   "outputs": [
    {
     "name": "stdout",
     "output_type": "stream",
     "text": [
      "Requirement already satisfied: jinja2 in /home/mow/miniconda3/envs/msgai/lib/python3.10/site-packages (3.1.4)\n",
      "Requirement already satisfied: MarkupSafe>=2.0 in /home/mow/miniconda3/envs/msgai/lib/python3.10/site-packages (from jinja2) (2.1.3)\n",
      "Note: you may need to restart the kernel to use updated packages.\n",
      "Requirement already satisfied: python-dotenv in /home/mow/miniconda3/envs/msgai/lib/python3.10/site-packages (1.0.1)\n",
      "Note: you may need to restart the kernel to use updated packages.\n",
      "Requirement already satisfied: requests in /home/mow/miniconda3/envs/msgai/lib/python3.10/site-packages (2.32.3)\n",
      "Requirement already satisfied: charset-normalizer<4,>=2 in /home/mow/miniconda3/envs/msgai/lib/python3.10/site-packages (from requests) (3.3.2)\n",
      "Requirement already satisfied: idna<4,>=2.5 in /home/mow/miniconda3/envs/msgai/lib/python3.10/site-packages (from requests) (3.7)\n",
      "Requirement already satisfied: urllib3<3,>=1.21.1 in /home/mow/miniconda3/envs/msgai/lib/python3.10/site-packages (from requests) (1.26.20)\n",
      "Requirement already satisfied: certifi>=2017.4.17 in /home/mow/miniconda3/envs/msgai/lib/python3.10/site-packages (from requests) (2024.8.30)\n",
      "Note: you may need to restart the kernel to use updated packages.\n",
      "Requirement already satisfied: wonderwords in /home/mow/miniconda3/envs/msgai/lib/python3.10/site-packages (2.2.0)\n",
      "Note: you may need to restart the kernel to use updated packages.\n"
     ]
    }
   ],
   "source": [
    "%pip install jinja2\n",
    "%pip install python-dotenv\n",
    "%pip install requests\n",
    "%pip install wonderwords"
   ]
  },
  {
   "cell_type": "code",
   "execution_count": 28,
   "metadata": {},
   "outputs": [],
   "source": [
    "import os\n",
    "import random\n",
    "import requests\n",
    "\n",
    "from dotenv import load_dotenv\n",
    "from IPython.display import display, Markdown\n",
    "from jinja2 import Template\n",
    "from wonderwords import RandomWord"
   ]
  },
  {
   "cell_type": "code",
   "execution_count": 29,
   "metadata": {},
   "outputs": [],
   "source": [
    "# SPOTIFY API CONSTANTS\n",
    "\n",
    "load_dotenv()\n",
    "\n",
    "CLIENT_ID = os.environ.get('CLIENT_ID')\n",
    "CLIENT_SECRET = os.environ.get('CLIENT_SECRET')\n",
    "SPOTIFY_BASE_URL = 'https://api.spotify.com/v1/'"
   ]
  },
  {
   "cell_type": "code",
   "execution_count": 30,
   "metadata": {},
   "outputs": [
    {
     "name": "stdout",
     "output_type": "stream",
     "text": [
      "BQBkZevvF4YU9HU6MDNr9gYqPMarNzLa8FVSG-_T_cTOpz6MgusNjIUI869gvFO4heXkRcuPNDJDAeHTiBh2urep5lT_QWRvMWzIf0xHRtTBT8Ft8Ug\n"
     ]
    }
   ],
   "source": [
    "# SPOTIFY API AUTHENTICATION\n",
    "\n",
    "def get_spotify_token(client_id, client_secret):\n",
    "    url = \"https://accounts.spotify.com/api/token\"\n",
    "    headers = {\n",
    "        \"Content-Type\": \"application/x-www-form-urlencoded\"\n",
    "    }\n",
    "    data = {\n",
    "        \"grant_type\": \"client_credentials\",\n",
    "        \"client_id\": client_id,\n",
    "        \"client_secret\": client_secret\n",
    "    }\n",
    "    \n",
    "    response = requests.post(url, headers=headers, data=data)\n",
    "    response_data = response.json()\n",
    "    \n",
    "    if response.status_code == 200:\n",
    "        return response_data['access_token']\n",
    "    else:\n",
    "        raise Exception(f\"Error fetching token: {response_data}\")\n",
    "\n",
    "TOKEN = get_spotify_token(CLIENT_ID, CLIENT_SECRET)\n",
    "HEADERS = {\n",
    "        \"Authorization\": f\"Bearer {TOKEN}\"\n",
    "    }\n",
    "print(TOKEN)"
   ]
  },
  {
   "cell_type": "code",
   "execution_count": 31,
   "metadata": {},
   "outputs": [],
   "source": [
    "# SPOTIFY API FUNCTIONS\n",
    "\n",
    "r = RandomWord()\n",
    "def get_random_album_id():\n",
    "    random_word = r.word()\n",
    "    \n",
    "    search_url = SPOTIFY_BASE_URL + \"search\"\n",
    "    params = {\n",
    "        \"q\": random_word,\n",
    "        \"type\": \"album\",\n",
    "        \"tag\": \"hipster\", # to get more obscure results\n",
    "        \"limit\": 50\n",
    "    }\n",
    "    response = requests.get(search_url, headers=HEADERS, params=params)\n",
    "    response_data = response.json()\n",
    "    \n",
    "    albums = response_data.get('albums', {}).get('items', [])\n",
    "    non_single_albums = [album for album in albums if album['album_type'] == 'album']\n",
    "    \n",
    "    if non_single_albums:\n",
    "        random_album = random.choice(non_single_albums)\n",
    "        return random_album['id']\n",
    "    else:\n",
    "        return None\n",
    "    \n",
    "def get_album_info(album_id):\n",
    "    url = SPOTIFY_BASE_URL + f\"albums/{album_id}\"\n",
    "    response = requests.get(url, headers=HEADERS)\n",
    "    album = response.json()\n",
    "    \n",
    "    album_info = {\n",
    "        'name': album['name'],\n",
    "        'id': album['id'],\n",
    "        'date': album['release_date'],\n",
    "        'artists': [a['name'] for a in album['artists']],\n",
    "        'cover': album['images'][0]['url'],\n",
    "        'genres': album['genres'], # most often not yet classified\n",
    "        'label': album['label']\n",
    "    }\n",
    "\n",
    "    return album_info\n",
    "\n",
    "def get_album_tracks(album_id):\n",
    "    url = SPOTIFY_BASE_URL + f\"albums/{album_id}/tracks\"\n",
    "    response = requests.get(url, headers=HEADERS)\n",
    "    response_data = response.json()\n",
    "\n",
    "    tracks = {}\n",
    "    for t in response_data.get('items', []):\n",
    "        track = {\n",
    "            'name': t['name'],\n",
    "            'artists': [a['name'] for a in t['artists']]\n",
    "        }\n",
    "        tracks[t['track_number']] = track\n",
    "\n",
    "    return tracks\n",
    "\n",
    "def get_random_album_information():\n",
    "    album_id = get_random_album_id()\n",
    "    album = get_album_info(album_id)\n",
    "    album['tracks'] = get_album_tracks(album_id)\n",
    "    return album\n",
    "\n",
    "def display_album(album):\n",
    "    if album:       \n",
    "        display(Markdown(f\"**{album['name']}**\"))\n",
    "        display(Markdown(f\"![Album Cover]({album['cover']})\"))\n",
    "        display(Markdown(f\"**Artists**: {', '.join(album['artists'])}\"))\n",
    "        display(Markdown(f\"**Release Date**: {album['date']}\"))\n",
    "        display(Markdown(f\"**Genres**: {', '.join(album['genres'])}\"))\n",
    "        display(Markdown(f\"**Label**: {album['label']}\"))\n",
    "        display(Markdown(f\"**Tracks**\"))\n",
    "        for track_number, track in album['tracks'].items():\n",
    "            display(Markdown(f\"{track_number}. {track['name']} - {', '.join(track['artists'])}\"))\n",
    "    else:\n",
    "        display(Markdown(\"No albums found. Try again!\"))\n",
    "\n"
   ]
  },
  {
   "cell_type": "code",
   "execution_count": 32,
   "metadata": {},
   "outputs": [
    {
     "data": {
      "text/markdown": [
       "**Music For Growing Flowers**"
      ],
      "text/plain": [
       "<IPython.core.display.Markdown object>"
      ]
     },
     "metadata": {},
     "output_type": "display_data"
    },
    {
     "data": {
      "text/markdown": [
       "![Album Cover](https://i.scdn.co/image/ab67616d0000b27380d4bd12daae51e871f5d79a)"
      ],
      "text/plain": [
       "<IPython.core.display.Markdown object>"
      ]
     },
     "metadata": {},
     "output_type": "display_data"
    },
    {
     "data": {
      "text/markdown": [
       "**Artists**: Erland Cooper"
      ],
      "text/plain": [
       "<IPython.core.display.Markdown object>"
      ]
     },
     "metadata": {},
     "output_type": "display_data"
    },
    {
     "data": {
      "text/markdown": [
       "**Release Date**: 2022-08-19"
      ],
      "text/plain": [
       "<IPython.core.display.Markdown object>"
      ]
     },
     "metadata": {},
     "output_type": "display_data"
    },
    {
     "data": {
      "text/markdown": [
       "**Genres**: "
      ],
      "text/plain": [
       "<IPython.core.display.Markdown object>"
      ]
     },
     "metadata": {},
     "output_type": "display_data"
    },
    {
     "data": {
      "text/markdown": [
       "**Label**: Mercury Classics"
      ],
      "text/plain": [
       "<IPython.core.display.Markdown object>"
      ]
     },
     "metadata": {},
     "output_type": "display_data"
    },
    {
     "data": {
      "text/markdown": [
       "**Tracks**"
      ],
      "text/plain": [
       "<IPython.core.display.Markdown object>"
      ]
     },
     "metadata": {},
     "output_type": "display_data"
    },
    {
     "data": {
      "text/markdown": [
       "1. Music For Growing Flowers - Pt. 1 - Erland Cooper"
      ],
      "text/plain": [
       "<IPython.core.display.Markdown object>"
      ]
     },
     "metadata": {},
     "output_type": "display_data"
    },
    {
     "data": {
      "text/markdown": [
       "2. Music For Growing Flowers - Pt. 2 - Erland Cooper"
      ],
      "text/plain": [
       "<IPython.core.display.Markdown object>"
      ]
     },
     "metadata": {},
     "output_type": "display_data"
    },
    {
     "data": {
      "text/markdown": [
       "3. Music For Growing Flowers - Pt. 3 - Erland Cooper"
      ],
      "text/plain": [
       "<IPython.core.display.Markdown object>"
      ]
     },
     "metadata": {},
     "output_type": "display_data"
    },
    {
     "data": {
      "text/markdown": [
       "4. Music For Growing Flowers - Pt. 4 - Erland Cooper"
      ],
      "text/plain": [
       "<IPython.core.display.Markdown object>"
      ]
     },
     "metadata": {},
     "output_type": "display_data"
    },
    {
     "data": {
      "text/markdown": [
       "5. Music For Growing Flowers - Pt. 5 - Erland Cooper"
      ],
      "text/plain": [
       "<IPython.core.display.Markdown object>"
      ]
     },
     "metadata": {},
     "output_type": "display_data"
    },
    {
     "data": {
      "text/markdown": [
       "6. Music For Growing Flowers - Pt. 6 - Erland Cooper"
      ],
      "text/plain": [
       "<IPython.core.display.Markdown object>"
      ]
     },
     "metadata": {},
     "output_type": "display_data"
    },
    {
     "data": {
      "text/markdown": [
       "7. Music For Growing Flowers - Pt. 7 - Erland Cooper"
      ],
      "text/plain": [
       "<IPython.core.display.Markdown object>"
      ]
     },
     "metadata": {},
     "output_type": "display_data"
    },
    {
     "data": {
      "text/markdown": [
       "8. Music For Growing Flowers - Pt. 8 - Erland Cooper"
      ],
      "text/plain": [
       "<IPython.core.display.Markdown object>"
      ]
     },
     "metadata": {},
     "output_type": "display_data"
    }
   ],
   "source": [
    "# GET RANDOM ALBUM INFORMATION\n",
    "\n",
    "album = get_random_album_information()\n",
    "display_album(album)"
   ]
  },
  {
   "cell_type": "code",
   "execution_count": 33,
   "metadata": {},
   "outputs": [
    {
     "name": "stdout",
     "output_type": "stream",
     "text": [
      "Create a square album cover for the following album:\n",
      "\n",
      "Album name : Music For Growing Flowers\n",
      "Artist : Erland Cooper\n",
      "Release Date : 2022-08-19\n",
      "Label : Mercury Classics\n",
      "\n",
      "Tracks:\n",
      "1. Music For Growing Flowers - Pt. 1 by Erland Cooper\n",
      "2. Music For Growing Flowers - Pt. 2 by Erland Cooper\n",
      "3. Music For Growing Flowers - Pt. 3 by Erland Cooper\n",
      "4. Music For Growing Flowers - Pt. 4 by Erland Cooper\n",
      "5. Music For Growing Flowers - Pt. 5 by Erland Cooper\n",
      "6. Music For Growing Flowers - Pt. 6 by Erland Cooper\n",
      "7. Music For Growing Flowers - Pt. 7 by Erland Cooper\n",
      "8. Music For Growing Flowers - Pt. 8 by Erland Cooper\n",
      "\n"
     ]
    }
   ],
   "source": [
    "# JINJA TEMPLATE\n",
    "\n",
    "template = Template(\"\"\"\\\n",
    "Create a square album cover for the following album:\n",
    "\n",
    "Album name : {{ album.name }}\n",
    "Artist{% if album.artists|length > 1 %}s{% endif %} : {{ album.artists | join(', ') }}\n",
    "Release Date : {{ album.date }}\n",
    "Label : {{ album.label }}\n",
    "{% if album.genres %}Genres : {{ album.genres | join(', ') }}{% endif %}\n",
    "Tracks:\n",
    "{% for track_number, track in album.tracks.items() %}{{ track_number }}. {{ track.name }} by {{ track.artists | join(', ') }}\\n{% endfor %}\n",
    "\"\"\")\n",
    "\n",
    "print(template.render(album=album))"
   ]
  },
  {
   "cell_type": "code",
   "execution_count": 34,
   "metadata": {},
   "outputs": [
    {
     "name": "stdout",
     "output_type": "stream",
     "text": [
      "Prompt saved to Music For Growing Flowers_prompt.txt\n"
     ]
    }
   ],
   "source": [
    "# Save the prompt to a text file\n",
    "prompt = template.render(album=album)\n",
    "with open(f\"prompts/{album['name']}_prompt.txt\", \"w\") as file:\n",
    "    file.write(prompt)\n",
    "\n",
    "print(f\"Prompt saved to {album['name']}_prompt.txt\")"
   ]
  }
 ],
 "metadata": {
  "kernelspec": {
   "display_name": "Python 3 (ipykernel)",
   "language": "python",
   "name": "python3"
  },
  "language_info": {
   "codemirror_mode": {
    "name": "ipython",
    "version": 3
   },
   "file_extension": ".py",
   "mimetype": "text/x-python",
   "name": "python",
   "nbconvert_exporter": "python",
   "pygments_lexer": "ipython3",
   "version": "3.10.14"
  }
 },
 "nbformat": 4,
 "nbformat_minor": 2
}
