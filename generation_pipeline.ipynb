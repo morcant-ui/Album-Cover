{
 "cells": [
  {
   "cell_type": "code",
   "execution_count": 61,
   "metadata": {},
   "outputs": [
    {
     "name": "stdout",
     "output_type": "stream",
     "text": [
      "Requirement already satisfied: datasets in /home/christine/miniconda3/lib/python3.12/site-packages (3.2.0)\n",
      "Requirement already satisfied: filelock in /home/christine/miniconda3/lib/python3.12/site-packages (from datasets) (3.16.1)\n",
      "Requirement already satisfied: numpy>=1.17 in /home/christine/miniconda3/lib/python3.12/site-packages (from datasets) (2.2.0)\n",
      "Requirement already satisfied: pyarrow>=15.0.0 in /home/christine/miniconda3/lib/python3.12/site-packages (from datasets) (18.1.0)\n",
      "Requirement already satisfied: dill<0.3.9,>=0.3.0 in /home/christine/miniconda3/lib/python3.12/site-packages (from datasets) (0.3.8)\n",
      "Requirement already satisfied: pandas in /home/christine/miniconda3/lib/python3.12/site-packages (from datasets) (2.2.3)\n",
      "Requirement already satisfied: requests>=2.32.2 in /home/christine/miniconda3/lib/python3.12/site-packages (from datasets) (2.32.3)\n",
      "Requirement already satisfied: tqdm>=4.66.3 in /home/christine/miniconda3/lib/python3.12/site-packages (from datasets) (4.66.4)\n",
      "Requirement already satisfied: xxhash in /home/christine/miniconda3/lib/python3.12/site-packages (from datasets) (3.5.0)\n",
      "Requirement already satisfied: multiprocess<0.70.17 in /home/christine/miniconda3/lib/python3.12/site-packages (from datasets) (0.70.16)\n",
      "Requirement already satisfied: fsspec<=2024.9.0,>=2023.1.0 in /home/christine/miniconda3/lib/python3.12/site-packages (from fsspec[http]<=2024.9.0,>=2023.1.0->datasets) (2024.9.0)\n",
      "Requirement already satisfied: aiohttp in /home/christine/miniconda3/lib/python3.12/site-packages (from datasets) (3.11.10)\n",
      "Requirement already satisfied: huggingface-hub>=0.23.0 in /home/christine/miniconda3/lib/python3.12/site-packages (from datasets) (0.26.5)\n",
      "Requirement already satisfied: packaging in /home/christine/miniconda3/lib/python3.12/site-packages (from datasets) (24.1)\n",
      "Requirement already satisfied: pyyaml>=5.1 in /home/christine/miniconda3/lib/python3.12/site-packages (from datasets) (6.0.2)\n",
      "Requirement already satisfied: aiohappyeyeballs>=2.3.0 in /home/christine/miniconda3/lib/python3.12/site-packages (from aiohttp->datasets) (2.4.4)\n",
      "Requirement already satisfied: aiosignal>=1.1.2 in /home/christine/miniconda3/lib/python3.12/site-packages (from aiohttp->datasets) (1.3.1)\n",
      "Requirement already satisfied: attrs>=17.3.0 in /home/christine/miniconda3/lib/python3.12/site-packages (from aiohttp->datasets) (24.2.0)\n",
      "Requirement already satisfied: frozenlist>=1.1.1 in /home/christine/miniconda3/lib/python3.12/site-packages (from aiohttp->datasets) (1.5.0)\n",
      "Requirement already satisfied: multidict<7.0,>=4.5 in /home/christine/miniconda3/lib/python3.12/site-packages (from aiohttp->datasets) (6.1.0)\n",
      "Requirement already satisfied: propcache>=0.2.0 in /home/christine/miniconda3/lib/python3.12/site-packages (from aiohttp->datasets) (0.2.1)\n",
      "Requirement already satisfied: yarl<2.0,>=1.17.0 in /home/christine/miniconda3/lib/python3.12/site-packages (from aiohttp->datasets) (1.18.3)\n",
      "Requirement already satisfied: typing-extensions>=3.7.4.3 in /home/christine/miniconda3/lib/python3.12/site-packages (from huggingface-hub>=0.23.0->datasets) (4.11.0)\n",
      "Requirement already satisfied: charset-normalizer<4,>=2 in /home/christine/miniconda3/lib/python3.12/site-packages (from requests>=2.32.2->datasets) (3.3.2)\n",
      "Requirement already satisfied: idna<4,>=2.5 in /home/christine/miniconda3/lib/python3.12/site-packages (from requests>=2.32.2->datasets) (3.7)\n",
      "Requirement already satisfied: urllib3<3,>=1.21.1 in /home/christine/miniconda3/lib/python3.12/site-packages (from requests>=2.32.2->datasets) (2.2.2)\n",
      "Requirement already satisfied: certifi>=2017.4.17 in /home/christine/miniconda3/lib/python3.12/site-packages (from requests>=2.32.2->datasets) (2024.8.30)\n",
      "Requirement already satisfied: python-dateutil>=2.8.2 in /home/christine/miniconda3/lib/python3.12/site-packages (from pandas->datasets) (2.9.0.post0)\n",
      "Requirement already satisfied: pytz>=2020.1 in /home/christine/miniconda3/lib/python3.12/site-packages (from pandas->datasets) (2024.2)\n",
      "Requirement already satisfied: tzdata>=2022.7 in /home/christine/miniconda3/lib/python3.12/site-packages (from pandas->datasets) (2024.2)\n",
      "Requirement already satisfied: six>=1.5 in /home/christine/miniconda3/lib/python3.12/site-packages (from python-dateutil>=2.8.2->pandas->datasets) (1.16.0)\n",
      "Note: you may need to restart the kernel to use updated packages.\n"
     ]
    }
   ],
   "source": [
    "%pip install datasets"
   ]
  },
  {
   "cell_type": "code",
   "execution_count": 62,
   "metadata": {},
   "outputs": [],
   "source": [
    "# IMPORTS\n",
    "\n",
    "import datasets\n",
    "import platform\n",
    "import psutil\n",
    "import json\n",
    "import os\n",
    "import random\n",
    "import torch\n",
    "import transformers\n",
    "import warnings\n",
    "\n",
    "from datetime import datetime\n",
    "from importlib import metadata\n",
    "from IPython.display import HTML\n",
    "from jinja2 import Template"
   ]
  },
  {
   "cell_type": "code",
   "execution_count": 63,
   "metadata": {},
   "outputs": [
    {
     "name": "stdout",
     "output_type": "stream",
     "text": [
      "{\n",
      "    \"physical_cpu_cores\": 4,\n",
      "    \"total_cpu_cores\": 8,\n",
      "    \"device\": \"cpu\",\n",
      "    \"backend\": \"cpu\",\n",
      "    \"cuda_device_count\": 0,\n",
      "    \"cuda_device_name\": \"N/A\",\n",
      "    \"cuda_version\": \"N/A\"\n",
      "}\n"
     ]
    }
   ],
   "source": [
    "# GET COMPUTER SPECS\n",
    "\n",
    "platform_info = {}\n",
    "\n",
    "platform_info['physical_cpu_cores'] = psutil.cpu_count(logical=False)\n",
    "platform_info['total_cpu_cores'] = psutil.cpu_count(logical=True)\n",
    "\n",
    "def get_available_device():\n",
    "    \"\"\"Helper method to find best possible hardware to run\n",
    "    Returns:\n",
    "        torch.device used to run experiments.\n",
    "        str representation of backend.\n",
    "    \"\"\"\n",
    "    # Check if CUDA is available\n",
    "    if torch.cuda.is_available():\n",
    "        return torch.device(\"cuda\"), \"cuda\"\n",
    "\n",
    "    # Check if ROCm is available\n",
    "    if torch.version.hip is not None and torch.backends.mps.is_available():\n",
    "        return torch.device(\"rocm\"), \"rocm\"\n",
    "\n",
    "    # Check if MPS (Apple Silicon) is available\n",
    "    if torch.backends.mps.is_available():\n",
    "        return torch.device('cpu'), \"mps\"\n",
    "\n",
    "    # Fall back to CPU\n",
    "    return torch.device(\"cpu\"), \"cpu\"\n",
    "\n",
    "# Check device info\n",
    "device, backend = get_available_device()\n",
    "\n",
    "# Check for GPU-specific details if CUDA or ROCm is available\n",
    "if device.type == \"cuda\":\n",
    "    cuda_device_count = torch.cuda.device_count()\n",
    "    cuda_device_name = torch.cuda.get_device_name(0)\n",
    "    cuda_version = torch.version.cuda\n",
    "elif device.type == \"rocm\":\n",
    "    cuda_device_count = torch.cuda.device_count()\n",
    "    cuda_device_name = torch.cuda.get_device_name(0)\n",
    "    cuda_version = torch.version.hip\n",
    "else:\n",
    "    cuda_device_count = 0\n",
    "    cuda_device_name = \"N/A\"\n",
    "    cuda_version = \"N/A\"\n",
    "\n",
    "platform_info['device'] = device.type\n",
    "platform_info['backend'] = backend\n",
    "platform_info['cuda_device_count'] = cuda_device_count\n",
    "platform_info['cuda_device_name'] = cuda_device_name\n",
    "platform_info['cuda_version'] = cuda_version\n",
    "\n",
    "print(json.dumps(platform_info, indent=4))\n"
   ]
  },
  {
   "cell_type": "code",
   "execution_count": 64,
   "metadata": {},
   "outputs": [],
   "source": [
    "# PROMPT TEMPLATES\n",
    "\n",
    "prompt_templates = {}\n",
    "\n",
    "template1 = Template(\"\"\"\\\n",
    "Create a square album cover for the following album:\n",
    "\n",
    "Album name : {{ album.name }}\n",
    "Artist{% if album.artists|length > 1 %}s{% endif %} : {{ album.artists | join(', ') }}\n",
    "Release Date : {{ album.date }}\n",
    "Label : {{ album.label }}\n",
    "{% if album.genres %}Genres : {{ album.genres | join(', ') }}{% endif %}\n",
    "Tracks:\n",
    "{% for track in album.tracks %}- {{ track.name }}\\n{% endfor %}\n",
    "\"\"\")\n",
    "prompt_templates['1-long'] = template1"
   ]
  },
  {
   "cell_type": "code",
   "execution_count": 65,
   "metadata": {},
   "outputs": [],
   "source": [
    "# GET ALBUM DATA\n",
    "\n",
    "file_id = \"\" # if need for a specific album, put the file name here\n",
    "\n",
    "if file_id == \"\":\n",
    "    album_files = os.listdir('input/albums')\n",
    "    random_album_file = random.choice(album_files)\n",
    "else:\n",
    "    random_album_file = f'{file_id}.json'\n",
    "\n",
    "with open(f'input/albums/{random_album_file}', 'r') as file:\n",
    "    album_data = json.load(file)"
   ]
  },
  {
   "cell_type": "code",
   "execution_count": 66,
   "metadata": {},
   "outputs": [],
   "source": [
    "# GET SPECIFIC PROMPT\n",
    "\n",
    "for prompt_template in prompt_templates.values():\n",
    "    prompt = prompt_template.render(album=album_data)"
   ]
  },
  {
   "cell_type": "code",
   "execution_count": null,
   "metadata": {},
   "outputs": [
    {
     "name": "stdout",
     "output_type": "stream",
     "text": [
      "{\n",
      "    \"computer_specs\": {\n",
      "        \"physical_cpu_cores\": 4,\n",
      "        \"total_cpu_cores\": 8,\n",
      "        \"device\": \"cpu\",\n",
      "        \"backend\": \"cpu\",\n",
      "        \"cuda_device_count\": 0,\n",
      "        \"cuda_device_name\": \"N/A\",\n",
      "        \"cuda_version\": \"N/A\"\n",
      "    },\n",
      "    \"album_id\": \"1qeIKM4E2eLToXvOzW2civ\",\n",
      "    \"prompt_key\": \"1-long\"\n",
      "}\n"
     ]
    }
   ],
   "source": [
    "run_info = {}\n",
    "run_info['computer_specs'] = platform_info\n",
    "run_info['album_id'] = album_data['id']\n",
    "\n",
    "for key, template in prompt_templates.items():\n",
    "    curr_run_info = run_info.copy()\n",
    "    run_info['prompt_key'] = key\n",
    "\n",
    "    prompt = template.render(album=album_data)\n",
    "\n",
    "    print(json.dumps(curr_run_info, indent=4))\n",
    "\n",
    "    del curr_run_info"
   ]
  }
 ],
 "metadata": {
  "kernelspec": {
   "display_name": "base",
   "language": "python",
   "name": "python3"
  },
  "language_info": {
   "codemirror_mode": {
    "name": "ipython",
    "version": 3
   },
   "file_extension": ".py",
   "mimetype": "text/x-python",
   "name": "python",
   "nbconvert_exporter": "python",
   "pygments_lexer": "ipython3",
   "version": "3.12.4"
  }
 },
 "nbformat": 4,
 "nbformat_minor": 2
}
