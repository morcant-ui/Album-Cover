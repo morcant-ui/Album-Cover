{
 "cells": [
  {
   "cell_type": "code",
   "execution_count": 54,
   "metadata": {},
   "outputs": [],
   "source": [
    "# IMPORTS\n",
    "\n",
    "import json\n",
    "import os\n",
    "import pandas as pd"
   ]
  },
  {
   "cell_type": "code",
   "execution_count": 55,
   "metadata": {},
   "outputs": [
    {
     "name": "stdout",
     "output_type": "stream",
     "text": [
      "input.computer_specs.physical_cpu_cores\n",
      "input.computer_specs.total_cpu_cores\n",
      "input.computer_specs.device\n",
      "input.computer_specs.backend\n",
      "input.computer_specs.cuda_device_count\n",
      "input.computer_specs.cuda_device_name\n",
      "input.computer_specs.cuda_version\n",
      "input.album_id\n",
      "input.prompt.positive\n",
      "input.prompt.negative\n",
      "input.model_params.inference_steps\n",
      "input.model_params.guidance_scale\n",
      "input.model_params.batch_size\n",
      "input.model_params.model_id\n",
      "output.quality.execution_time\n",
      "output.quality.resolution\n",
      "output.quality.colour_quality\n",
      "output.quality.ssim\n",
      "output.quality.clip\n",
      "output.image_id\n"
     ]
    }
   ],
   "source": [
    "OUTPUT_DIR = \"output\"\n",
    "\n",
    "data = []\n",
    "for run_timestamp in os.listdir(OUTPUT_DIR):\n",
    "    for run_file in os.listdir(OUTPUT_DIR + \"/\" + run_timestamp + \"/runs\"):\n",
    "        with open(OUTPUT_DIR + \"/\" + run_timestamp + \"/runs/\" + run_file, 'r') as f:\n",
    "            try:\n",
    "                json_data = json.load(f)\n",
    "                data.append(json_data)\n",
    "            except:\n",
    "                print(\"Error reading file: \" + run_file)\n",
    "\n",
    "\n",
    "df = pd.json_normalize(data)\n",
    "\n",
    "for key in df.keys():\n",
    "    print(key)\n"
   ]
  },
  {
   "cell_type": "code",
   "execution_count": 56,
   "metadata": {},
   "outputs": [
    {
     "name": "stdout",
     "output_type": "stream",
     "text": [
      "input.model_params.inference_steps\n",
      "20     0.000206\n",
      "100    0.000157\n",
      "Name: output.quality.execution_time, dtype: float64\n"
     ]
    }
   ],
   "source": [
    "grouped = df.groupby(\"input.model_params.inference_steps\")[\"output.quality.execution_time\"].mean()\n",
    "\n",
    "print(grouped)"
   ]
  }
 ],
 "metadata": {
  "kernelspec": {
   "display_name": "base",
   "language": "python",
   "name": "python3"
  },
  "language_info": {
   "codemirror_mode": {
    "name": "ipython",
    "version": 3
   },
   "file_extension": ".py",
   "mimetype": "text/x-python",
   "name": "python",
   "nbconvert_exporter": "python",
   "pygments_lexer": "ipython3",
   "version": "3.12.4"
  }
 },
 "nbformat": 4,
 "nbformat_minor": 2
}
