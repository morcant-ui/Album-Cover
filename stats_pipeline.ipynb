{
 "cells": [
  {
   "cell_type": "code",
   "execution_count": 60,
   "metadata": {},
   "outputs": [],
   "source": [
    "# IMPORTS\n",
    "\n",
    "import json\n",
    "import os\n",
    "import pandas as pd"
   ]
  },
  {
   "cell_type": "code",
   "execution_count": 61,
   "metadata": {},
   "outputs": [
    {
     "name": "stdout",
     "output_type": "stream",
     "text": [
      "album_id\n",
      "positive-prompt\n",
      "negative-prompt\n",
      "inference_steps\n",
      "guidance_scale\n",
      "batch_size\n",
      "model_id\n",
      "execution_time\n",
      "resolution\n",
      "colour_quality\n",
      "ssim\n",
      "clip\n",
      "image_id\n",
      "computer_specs.physical_cpu_cores\n",
      "computer_specs.total_cpu_cores\n",
      "computer_specs.device\n",
      "computer_specs.backend\n",
      "computer_specs.cuda_device_count\n",
      "computer_specs.cuda_device_name\n",
      "computer_specs.cuda_version\n"
     ]
    }
   ],
   "source": [
    "OUTPUT_DIR = \"output\"\n",
    "\n",
    "data = []\n",
    "for run_timestamp in os.listdir(OUTPUT_DIR):\n",
    "    for run_file in os.listdir(OUTPUT_DIR + \"/\" + run_timestamp + \"/runs\"):\n",
    "        with open(OUTPUT_DIR + \"/\" + run_timestamp + \"/runs/\" + run_file, 'r') as f:\n",
    "            try:\n",
    "                json_data = json.load(f)\n",
    "                data.append(json_data)\n",
    "            except:\n",
    "                print(\"Error reading file: \" + run_file)\n",
    "\n",
    "\n",
    "df = pd.json_normalize(data)\n",
    "\n",
    "for key in df.keys():\n",
    "    print(key)\n"
   ]
  },
  {
   "cell_type": "code",
   "execution_count": 62,
   "metadata": {},
   "outputs": [
    {
     "name": "stdout",
     "output_type": "stream",
     "text": [
      "inference_steps\n",
      "20     0.000113\n",
      "100    0.000103\n",
      "Name: execution_time, dtype: float64\n"
     ]
    }
   ],
   "source": [
    "grouped = df.groupby(\"inference_steps\")[\"execution_time\"].mean()\n",
    "\n",
    "print(grouped)"
   ]
  }
 ],
 "metadata": {
  "kernelspec": {
   "display_name": "base",
   "language": "python",
   "name": "python3"
  },
  "language_info": {
   "codemirror_mode": {
    "name": "ipython",
    "version": 3
   },
   "file_extension": ".py",
   "mimetype": "text/x-python",
   "name": "python",
   "nbconvert_exporter": "python",
   "pygments_lexer": "ipython3",
   "version": "3.12.4"
  }
 },
 "nbformat": 4,
 "nbformat_minor": 2
}
